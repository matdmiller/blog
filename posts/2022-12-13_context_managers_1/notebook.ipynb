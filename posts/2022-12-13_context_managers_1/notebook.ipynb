{
 "cells": [
  {
   "cell_type": "raw",
   "id": "a00b8d88-fc87-4561-a9f6-e8cd32a5e3aa",
   "metadata": {},
   "source": [
    "---\n",
    "title: \"Context Managers\"\n",
    "author: \"Mat Miller\"\n",
    "date: \"12/13/2022\"\n",
    "categories: [python, code, today I learned]\n",
    "image: python_learning_to_code_1_512.png\n",
    "card-style: summary\n",
    "format:\n",
    "  html:\n",
    "    number-sections: true\n",
    "    toc: true\n",
    "    code-fold: false\n",
    "    self-contained: true\n",
    "---"
   ]
  },
  {
   "cell_type": "markdown",
   "id": "b965d4ab",
   "metadata": {},
   "source": [
    "[![Open in Google Colab](https://colab.research.google.com/assets/colab-badge.png)](https://colab.research.google.com/github/matdmiller/blog/blob/main/posts/2022-12-13_context_managers_1/notebook.ipynb)<br>\n",
    "This is a quick 'today I learned' (TIL) note on Python Context managers. Python context managers are used to wrap arbitrary code with entry (setup) and exit (cleanup) functions. One common places you'll see them used is when reading data from a file. "
   ]
  },
  {
   "cell_type": "code",
   "execution_count": null,
   "id": "0f4aa32b",
   "metadata": {},
   "outputs": [
    {
     "name": "stdout",
     "output_type": "stream",
     "text": [
      "['This file is called test.txt.\\n', \"This is what's on the second line.\"]\n"
     ]
    }
   ],
   "source": [
    "#| output: true\n",
    "# Open file and read contents.\n",
    "with open('test.txt','r') as f:\n",
    "    output = f.readlines()\n",
    "print(output)"
   ]
  },
  {
   "cell_type": "markdown",
   "id": "0e006ae5",
   "metadata": {},
   "source": [
    "If we try and read from the file `f`, defined above, we will get an I/O exception because the file as already been closed."
   ]
  },
  {
   "cell_type": "code",
   "execution_count": null,
   "id": "67ef9551",
   "metadata": {},
   "outputs": [
    {
     "name": "stdout",
     "output_type": "stream",
     "text": [
      "I/O operation on closed file.\n"
     ]
    }
   ],
   "source": [
    "#| output: true\n",
    "try:\n",
    "    f.readlines()\n",
    "except Exception as e:\n",
    "    print(e)"
   ]
  },
  {
   "cell_type": "markdown",
   "id": "27085b5f-e96c-48f4-bcbe-c37f08fe4c21",
   "metadata": {},
   "source": [
    "Here is the equivalent long hand way to read the data from the file:"
   ]
  },
  {
   "cell_type": "code",
   "execution_count": null,
   "id": "890c0f63-2212-4356-a387-2febc339741a",
   "metadata": {},
   "outputs": [
    {
     "name": "stdout",
     "output_type": "stream",
     "text": [
      "['This file is called test.txt.\\n', \"This is what's on the second line.\"]\n"
     ]
    }
   ],
   "source": [
    "#| output: true\n",
    "f = open('test.txt')\n",
    "output = f.readlines()\n",
    "f.close()\n",
    "print(output)"
   ]
  },
  {
   "cell_type": "markdown",
   "id": "7e762602-57c0-406d-a863-666da975679b",
   "metadata": {},
   "source": [
    "As you can see the syntax is more verbose, it would be easier to forget to close the file, and it's much less clear to see at a glance when we're operating on the file. This example is relatively trivial as we're just reading all the lines of the text file into a list but you can probably imagine this could be a lot more complex if you were doing something more complicated like training a neural net."
   ]
  },
  {
   "cell_type": "markdown",
   "id": "2acfdae6-fa3f-4bcd-8d68-4f54bf618f3f",
   "metadata": {},
   "source": [
    "Now let's write our own class that uses a conext manager to cement how they can be implemented."
   ]
  },
  {
   "cell_type": "code",
   "execution_count": null,
   "id": "b295653e-d8b1-46fa-aaf4-42d49e517782",
   "metadata": {},
   "outputs": [],
   "source": [
    "#| output: true\n",
    "class MyContextManagerClass:\n",
    "    def __enter__(self):\n",
    "        print(\"Entering the context...\")\n",
    "        return \"My enter message.\"\n",
    "    def __exit__(self, exception_type, exception_value, exception_traceback):\n",
    "        print(\"Leaving the context...\")\n",
    "        print(exception_type, exception_value, exception_traceback, sep=\"\\n\")"
   ]
  },
  {
   "cell_type": "code",
   "execution_count": null,
   "id": "0ec9e67e-54f1-43a4-a34d-4ca18f75c530",
   "metadata": {},
   "outputs": [
    {
     "name": "stdout",
     "output_type": "stream",
     "text": [
      "Entering the context...\n",
      "hi My enter message.\n",
      "Leaving the context...\n",
      "None\n",
      "None\n",
      "None\n"
     ]
    }
   ],
   "source": [
    "#| output: true\n",
    "with MyContextManagerClass() as h:\n",
    "    print('hi', h)"
   ]
  },
  {
   "cell_type": "markdown",
   "id": "ef766faa-9047-44ea-9f83-dee23d7d308c",
   "metadata": {},
   "source": [
    "As you can see the enter message was printed, the `__enter__` return value was passed and then the exit message was printed. Now let's see what happens if there is an error while within our context."
   ]
  },
  {
   "cell_type": "code",
   "execution_count": null,
   "id": "0e6325d1-91de-4f94-9ccc-74c44476258d",
   "metadata": {},
   "outputs": [
    {
     "name": "stdout",
     "output_type": "stream",
     "text": [
      "Entering the context...\n",
      "My enter message.\n",
      "Leaving the context...\n",
      "<class 'ZeroDivisionError'>\n",
      "division by zero\n",
      "<traceback object>\n"
     ]
    },
    {
     "ename": "ZeroDivisionError",
     "evalue": "division by zero",
     "output_type": "error",
     "traceback": [
      "\u001b[0;31m---------------------------------------------------------------------------\u001b[0m",
      "\u001b[0;31mZeroDivisionError\u001b[0m                         Traceback (most recent call last)",
      "\u001b[0;32m/tmp/ipykernel_890/1730694347.py\u001b[0m in \u001b[0;36m<module>\u001b[0;34m\u001b[0m\n\u001b[1;32m      3\u001b[0m \u001b[0;32mwith\u001b[0m \u001b[0mMyContextManagerClass\u001b[0m\u001b[0;34m(\u001b[0m\u001b[0;34m)\u001b[0m \u001b[0;32mas\u001b[0m \u001b[0mh\u001b[0m\u001b[0;34m:\u001b[0m\u001b[0;34m\u001b[0m\u001b[0;34m\u001b[0m\u001b[0m\n\u001b[1;32m      4\u001b[0m     \u001b[0mprint\u001b[0m\u001b[0;34m(\u001b[0m\u001b[0mh\u001b[0m\u001b[0;34m)\u001b[0m\u001b[0;34m\u001b[0m\u001b[0;34m\u001b[0m\u001b[0m\n\u001b[0;32m----> 5\u001b[0;31m     \u001b[0mprint\u001b[0m\u001b[0;34m(\u001b[0m\u001b[0;36m1\u001b[0m\u001b[0;34m/\u001b[0m\u001b[0;36m0\u001b[0m\u001b[0;34m)\u001b[0m\u001b[0;34m\u001b[0m\u001b[0;34m\u001b[0m\u001b[0m\n\u001b[0m",
      "\u001b[0;31mZeroDivisionError\u001b[0m: division by zero"
     ]
    }
   ],
   "source": [
    "#| output: true\n",
    "#|eval: false\n",
    "with MyContextManagerClass() as h:\n",
    "    print(h)\n",
    "    print(1/0)"
   ]
  },
  {
   "cell_type": "markdown",
   "id": "67b206d8-b0e7-4568-99ce-ed3713d3ca46",
   "metadata": {},
   "source": [
    "As you can see an error was thrown but the `__exit__` function was run anyways."
   ]
  },
  {
   "cell_type": "markdown",
   "id": "4d7b0418-4712-4b63-abed-d6e58dc5618e",
   "metadata": {},
   "source": [
    "There are many other ways you can implement and use context managers which you can read about here: [Python Conext Managers](https://docs.python.org/3/library/contextlib.html#single-use-reusable-and-reentrant-context-managers). Hopefully I've given you a taste of what's possible and given you a basic understanding of they they're useful."
   ]
  },
  {
   "cell_type": "markdown",
   "id": "9e396a6b-cd42-47e7-97b3-f708f1b601ce",
   "metadata": {},
   "source": [
    "Here are a few more examples for your reference:"
   ]
  },
  {
   "cell_type": "markdown",
   "id": "2186b63b-cfda-4d40-b6ba-d3fb737e477c",
   "metadata": {},
   "source": [
    "Example 1: Using the `contextmanager` decorator"
   ]
  },
  {
   "cell_type": "code",
   "execution_count": null,
   "id": "db513f58-7f47-423c-9b7b-bbf765e4c647",
   "metadata": {},
   "outputs": [],
   "source": [
    "#| output: true\n",
    "from contextlib import contextmanager\n",
    "\n",
    "@contextmanager\n",
    "def closing(thing):\n",
    "    try:\n",
    "        print('Starting')\n",
    "        yield thing\n",
    "    finally:\n",
    "        print('Finishing:',thing)"
   ]
  },
  {
   "cell_type": "code",
   "execution_count": null,
   "id": "98da5ce6-ba92-426a-88c7-675b3e0b533b",
   "metadata": {},
   "outputs": [
    {
     "name": "stdout",
     "output_type": "stream",
     "text": [
      "Starting\n",
      "hi\n",
      "Finishing: a\n"
     ]
    }
   ],
   "source": [
    "#| output: true\n",
    "with closing('a'):\n",
    "    print('hi')"
   ]
  },
  {
   "cell_type": "markdown",
   "id": "f084a9b5-c4eb-4ec4-8e7b-05653dc87006",
   "metadata": {},
   "source": [
    "Example 2: Using `ContextDecorator`"
   ]
  },
  {
   "cell_type": "code",
   "execution_count": null,
   "id": "29319659-3c14-43dd-aad5-6b6da59c7ba8",
   "metadata": {},
   "outputs": [],
   "source": [
    "#| output: true\n",
    "from contextlib import ContextDecorator\n",
    "\n",
    "class mycontext(ContextDecorator):\n",
    "    def __enter__(self):\n",
    "        print('Starting')\n",
    "        return self\n",
    "\n",
    "    def __exit__(self, *exc):\n",
    "        print('Finishing')\n",
    "        return False"
   ]
  },
  {
   "cell_type": "code",
   "execution_count": null,
   "id": "be20a1a5-d63c-4981-b5dd-3981ab26cace",
   "metadata": {},
   "outputs": [],
   "source": [
    "#| output: true\n",
    "@mycontext()\n",
    "def my_function():\n",
    "    print('The bit in the middle')"
   ]
  },
  {
   "cell_type": "code",
   "execution_count": null,
   "id": "386598d9-5764-44fe-8bc4-7bfc99621a0b",
   "metadata": {},
   "outputs": [
    {
     "name": "stdout",
     "output_type": "stream",
     "text": [
      "Starting\n",
      "The bit in the middle\n",
      "Finishing\n"
     ]
    }
   ],
   "source": [
    "#| output: true\n",
    "my_function()"
   ]
  }
 ],
 "metadata": {
  "kernelspec": {
   "display_name": "python3",
   "language": "python",
   "name": "python3"
  }
 },
 "nbformat": 4,
 "nbformat_minor": 5
}
